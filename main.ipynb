{
 "cells": [
  {
   "cell_type": "code",
   "execution_count": 33,
   "metadata": {},
   "outputs": [],
   "source": [
    "\n",
    "import pandas as pd\n",
    "# from PIL import Image\n",
    "import cv2\n",
    "import numpy as np\n",
    "\n",
    "\n",
    "\n",
    "class driveFile:\n",
    "  def __init__(self):\n",
    "    self.path=\"\"\n",
    "  # def __init__(self, mountpath):\n",
    "  #   import os\n",
    "  #   self.path = mountpath\n",
    "  #   from google.colab import drive\n",
    "  #   drive.mount(self.path, force_remount=True)\n",
    "  def dataload(self,folder_path):\n",
    "    img=[]\n",
    "    label=[]\n",
    "    import os\n",
    "    self.path1=os.path.join(self.path,folder_path)\n",
    "    \n",
    "    if os.path.exists(self.path1):\n",
    "      for i in os.listdir(self.path1):\n",
    "        self.dis_path=os.path.join(self.path1,i)\n",
    "        # /content/drive/MyDrive/train_set/BA- cellulitis\n",
    "        if os.path.exists(self.dis_path) and '.DS_Store' not in self.dis_path:\n",
    "          for j in os.listdir(self.dis_path):\n",
    "           if j.endswith(('.jpg', '.png', '.jpeg')):\n",
    "              self.img_path = os.path.join(self.dis_path, j)\n",
    "              loaded_img= self.imgload(self.img_path)\n",
    "              if loaded_img is not None:\n",
    "                img.append(loaded_img)\n",
    "                label.append(i)\n",
    "              else:\n",
    "                 print(\"Skipping non-image file:\", j)\n",
    "          else:\n",
    "              print(\"Skipping invalid path or .DS_Store:\", self.dis_path)\n",
    "              continue\n",
    "      return np.array(img), np.array(label)\n",
    "    else:\n",
    "      return \"patherror\",\"patherror\"\n",
    "\n",
    "\n",
    "\n",
    "  def imgload(self,imgpath):\n",
    "    img=cv2.imread(imgpath)\n",
    "    if img is None:\n",
    "      print(f\"Failed to load image at {imgpath}\")\n",
    "      return None\n",
    "    img=cv2.resize(img,(20,20))\n",
    "    # v imp, usually 224*224 but here 20*20 \"downsampling or using a smaller image resolution before flattening it.\"\n",
    "    img=cv2.cvtColor(img,cv2.COLOR_BGR2GRAY)\n",
    "    img=img.astype('float32')/255.0\n",
    "    img_array=np.array(img)\n",
    "    return img_array"
   ]
  },
  {
   "cell_type": "code",
   "execution_count": 39,
   "metadata": {},
   "outputs": [
    {
     "name": "stdout",
     "output_type": "stream",
     "text": [
      "Skipping invalid path or .DS_Store: train_set/FU-athlete-foot\n",
      "Skipping invalid path or .DS_Store: train_set/BA- cellulitis\n"
     ]
    }
   ],
   "source": [
    "# drive=driveFile('/content/drive')\n",
    "# images,labels=drive.dataload('MyDrive/train_set')\n",
    "drive=driveFile()\n",
    "images,labels=drive.dataload('train_set')"
   ]
  },
  {
   "cell_type": "code",
   "execution_count": 50,
   "metadata": {},
   "outputs": [],
   "source": [
    "\n",
    "class train:\n",
    "  def __init__(self,X,w,b,Y,learning_rate):\n",
    "    self.X=X\n",
    "    self.w=w\n",
    "    self.b=b\n",
    "    self.y=Y\n",
    "    self.learning_rate=learning_rate\n",
    "    \n",
    "    self.binary_cross_entropy()\n",
    "    self.backward_prop()\n",
    "\n",
    "  \n",
    "  def perceptron(self):\n",
    "      y_linearop=np.dot(self.X,self.w)+self.b\n",
    "      #unbounded\n",
    "      return y_linearop\n",
    "\n",
    "  def sigmoid(self):#activatn fn\n",
    "      y_predprob=1/(1+np.exp(-self.perceptron()))\n",
    "      self.y_pred=y_predprob\n",
    "\n",
    "\n",
    "  def binary_cross_entropy(self):\n",
    "      self.sigmoid()\n",
    "      self.y_pred = np.clip(self.y_pred, 1e-10, 1 - 1e-10)  # Prevent extreme values\n",
    "      self.loss=-np.mean((self.y*np.log(self.y_pred))+((1-self.y)*np.log(1-self.y_pred)))\n",
    "      print(self.loss)\n",
    "\n",
    "  def backward_prop(self):\n",
    "    dloss_dy_pred=-(self.y/self.y_pred)+((1-self.y)/(1-self.y_pred))\n",
    "    dsigm_dlinearoutput=self.y_pred*(1-self.y_pred)\n",
    "    #bcz dsigmoid/dz=sigmod-sigmoid^2\n",
    "    dloss_dlinearoutput=dloss_dy_pred*dsigm_dlinearoutput\n",
    "    # (f(g(x)))`=f`(g(x))g'(x)\n",
    "\n",
    "    self.dw = np.dot(self.X.T, dloss_dlinearoutput) / self.X.shape[0]\n",
    "    self.db = np.mean(dloss_dlinearoutput)\n",
    "    self.update_para()\n",
    "\n",
    "\n",
    "  def update_para(self):\n",
    "    self.w -= self.learning_rate * self.dw\n",
    "    self.b -= self.learning_rate * self.db"
   ]
  },
  {
   "cell_type": "code",
   "execution_count": 48,
   "metadata": {},
   "outputs": [
    {
     "name": "stdout",
     "output_type": "stream",
     "text": [
      "(197, 400)\n",
      "(197,)\n",
      "(197, 400)\n"
     ]
    }
   ],
   "source": [
    "print(images.shape)\n",
    "print(labels.shape)\n",
    "images=np.array([img.flatten() for img in images])\n",
    "# images=np.array([img.reshape(-1,1) for img in images])\n",
    "print(images.shape)\n",
    "labels=np.array([1 if label=='BA- cellulitis' else 0 for label in labels])\n",
    "# ba-cellulitis 1, foot 0\n",
    "\n",
    "\n",
    "# # imgs=[img1,\n",
    "# # img2,\n",
    "# # img3,\n",
    "# #\n",
    "# #\n",
    "# # img200]\n",
    "\n"
   ]
  },
  {
   "cell_type": "markdown",
   "metadata": {},
   "source": [
    "1D Array (Shape (400,)):\n",
    "In a 1D array, NumPy doesn't explicitly distinguish between rows and columns. It's just a sequence of 400 elements along a single axis (the x-axis). When you perform element-wise operations, such as scalar multiplication, it operates directly on each element because NumPy sees it as a single dimension (or vector). 2D Array (Shape (400, 1)):\n",
    "Here, NumPy treats it as a column vector. The shape (400, 1) has two axes: the first axis (rows) has 400 elements, and the second axis (columns) has 1 element. Even though there is only one column, it's a 2D structure. When performing element-wise operations, NumPy knows it needs to perform operations on a 2D grid (or matrix)."
   ]
  },
  {
   "cell_type": "code",
   "execution_count": 51,
   "metadata": {},
   "outputs": [
    {
     "name": "stdout",
     "output_type": "stream",
     "text": [
      "0.697756724586146\n"
     ]
    }
   ],
   "source": [
    "\n",
    "w=np.random.randn(images.shape[1],)*0.01\n",
    "b=0\n",
    "learning_rate=0.5\n",
    "train=train(images,w,b,labels,learning_rate)"
   ]
  }
 ],
 "metadata": {
  "kernelspec": {
   "display_name": "skindisenv",
   "language": "python",
   "name": "python3"
  },
  "language_info": {
   "codemirror_mode": {
    "name": "ipython",
    "version": 3
   },
   "file_extension": ".py",
   "mimetype": "text/x-python",
   "name": "python",
   "nbconvert_exporter": "python",
   "pygments_lexer": "ipython3",
   "version": "3.12.4"
  }
 },
 "nbformat": 4,
 "nbformat_minor": 2
}
